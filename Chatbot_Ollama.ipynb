{
  "nbformat": 4,
  "nbformat_minor": 0,
  "metadata": {
    "colab": {
      "provenance": [],
      "authorship_tag": "ABX9TyNH96588IJ6pRO3+1wBw987",
      "include_colab_link": true
    },
    "kernelspec": {
      "name": "python3",
      "display_name": "Python 3"
    },
    "language_info": {
      "name": "python"
    }
  },
  "cells": [
    {
      "cell_type": "markdown",
      "metadata": {
        "id": "view-in-github",
        "colab_type": "text"
      },
      "source": [
        "<a href=\"https://colab.research.google.com/github/ProfeLuisTic1986/Tutoriales/blob/main/Chatbot_Ollama.ipynb\" target=\"_parent\"><img src=\"https://colab.research.google.com/assets/colab-badge.svg\" alt=\"Open In Colab\"/></a>"
      ]
    },
    {
      "cell_type": "markdown",
      "source": [
        "# **Tutorial 1: Chatbot Básico con Ollama y Flet (sin voz)**"
      ],
      "metadata": {
        "id": "UjWIBX53dyng"
      }
    },
    {
      "cell_type": "markdown",
      "source": [
        "¿Qué vas a crear?\n",
        "Un chatbot con interfaz gráfica que se conecta a Ollama para responder como Albert Einstein (Mac) o Marie Curie (Windows)."
      ],
      "metadata": {
        "id": "Nc8cuEZOeCFY"
      }
    },
    {
      "cell_type": "markdown",
      "source": [
        "**Paso 1: Preparación del entorno**\n",
        "\n",
        "1.1. Instala Python\n",
        "Descarga Python desde python.org\n",
        "Durante la instalación, marca \"Add Python to PATH\"\n",
        "\n",
        "1.2. Instala Ollama\n",
        "Windows: Descarga desde ollama.com\n",
        "Mac: En terminal: brew install ollama"
      ],
      "metadata": {
        "id": "Xm6USTofeGKg"
      }
    },
    {
      "cell_type": "markdown",
      "source": [
        "1.3. Descarga un modelo"
      ],
      "metadata": {
        "id": "63JeYuQXeneE"
      }
    },
    {
      "cell_type": "code",
      "execution_count": null,
      "metadata": {
        "id": "e6CkOF0OdpX6"
      },
      "outputs": [],
      "source": [
        "ollama pull mistral:7b"
      ]
    },
    {
      "cell_type": "markdown",
      "source": [
        "1.4. Instala las librerías de Python"
      ],
      "metadata": {
        "id": "ywQtAC2derVJ"
      }
    },
    {
      "cell_type": "code",
      "source": [
        "pip install flet requests"
      ],
      "metadata": {
        "id": "yF5u-9qveueO"
      },
      "execution_count": null,
      "outputs": []
    },
    {
      "cell_type": "markdown",
      "source": [
        "Paso 2: Estructura del pryecto\n",
        "2.1. Crea el proyecto App009-Chatbot-ollama\n",
        "\n",
        "ingresa al archivo main.py"
      ],
      "metadata": {
        "id": "JqHK6So6exHO"
      }
    },
    {
      "cell_type": "code",
      "source": [
        "flet create App009-Chatbot-ollama"
      ],
      "metadata": {
        "id": "Na4z9-3wif98"
      },
      "execution_count": null,
      "outputs": []
    },
    {
      "cell_type": "markdown",
      "source": [
        "2.2. Importa las librerías necesarias"
      ],
      "metadata": {
        "id": "J_fTrYEYivl7"
      }
    },
    {
      "cell_type": "code",
      "source": [
        "import flet as ft\n",
        "import requests\n",
        "import json\n",
        "import platform"
      ],
      "metadata": {
        "id": "vFtQ6VQnixIo"
      },
      "execution_count": null,
      "outputs": []
    },
    {
      "cell_type": "markdown",
      "source": [
        "¿Qué hace cada import?\n",
        "\n",
        "* flet as ft: Librería para crear la interfaz gráfica\n",
        "* requests: Para hacer peticiones HTTP a Ollama\n",
        "* json: Para manejar las respuestas JSON de Ollama\n",
        "* platform: Para detectar si es Windows, Mac o Linux"
      ],
      "metadata": {
        "id": "AyPpnm4Zi0Ax"
      }
    },
    {
      "cell_type": "markdown",
      "source": [
        "2.3. Define las constantes del sistema"
      ],
      "metadata": {
        "id": "tu15CWQui3w4"
      }
    },
    {
      "cell_type": "code",
      "source": [
        "# Detecta el sistema operativo\n",
        "SO = platform.system()\n",
        "\n",
        "if SO == \"Darwin\":  # Mac\n",
        "    PERSONAJE = \"Albert Einstein\"\n",
        "    EMOJI_PERSONAJE = \"🧑‍🔬\"\n",
        "elif SO == \"Windows\":\n",
        "    PERSONAJE = \"Marie Curie\"\n",
        "    EMOJI_PERSONAJE = \"👩‍🔬\"\n",
        "else:\n",
        "    PERSONAJE = \"Científico\"\n",
        "    EMOJI_PERSONAJE = \"🧑‍🔬\"\n",
        "\n",
        "EMOJI_USUARIO = \"🧑‍💻\"\n",
        "OLLAMA_URL = \"http://localhost:11434/api/generate\"\n",
        "MODEL = \"mistral:7b\""
      ],
      "metadata": {
        "id": "0ePvy478i5qN"
      },
      "execution_count": null,
      "outputs": []
    },
    {
      "cell_type": "markdown",
      "source": [
        "¿Qué hace este código?\n",
        "\n",
        "* platform.system(): Devuelve \"Darwin\" (Mac), \"Windows\" o \"Linux\"\n",
        "* Según el sistema, cambia el personaje y emoji\n",
        "* Define la URL donde está corriendo Ollama (siempre localhost:11434)\n",
        "* Define qué modelo usar (mistral:7b)"
      ],
      "metadata": {
        "id": "jXT14Esgi8eL"
      }
    },
    {
      "cell_type": "markdown",
      "source": [
        "2.4. Crea la función principal de la app"
      ],
      "metadata": {
        "id": "AXK_cGgpi_iR"
      }
    },
    {
      "cell_type": "code",
      "source": [
        "def main(page: ft.Page):\n",
        "    # Configuración de la ventana\n",
        "    page.title = f\"Chat con {PERSONAJE}\"\n",
        "    page.bgcolor = ft.Colors.GREY_100"
      ],
      "metadata": {
        "id": "Uh0u7rqdjBaV"
      },
      "execution_count": null,
      "outputs": []
    },
    {
      "cell_type": "markdown",
      "source": [
        "¿Qué hace este código?\n",
        "\n",
        "* def main(page: ft.Page):: Función principal que Flet ejecutará\n",
        "* page.title: Título de la ventana (cambia según el personaje)\n",
        "* page.bgcolor: Color de fondo de la ventana (gris claro)"
      ],
      "metadata": {
        "id": "OXGd3Zu1jEEH"
      }
    },
    {
      "cell_type": "markdown",
      "source": [
        "2.5. Crea la lista de mensajes"
      ],
      "metadata": {
        "id": "Z5VMm4xHjHat"
      }
    },
    {
      "cell_type": "code",
      "source": [
        "# Lista donde se mostrarán los mensajes del chat\n",
        "    mensajes = ft.ListView(\n",
        "        expand=True,      # Ocupa todo el espacio disponible\n",
        "        spacing=10,       # Espacio entre mensajes\n",
        "        padding=20,       # Margen interno\n",
        "        auto_scroll=True, # Se desplaza automáticamente al último mensaje\n",
        "    )"
      ],
      "metadata": {
        "id": "S4UANO-MjJ-h"
      },
      "execution_count": null,
      "outputs": []
    },
    {
      "cell_type": "markdown",
      "source": [
        "¿Qué hace este código?\n",
        "\n",
        "* ft.ListView: Un contenedor que muestra una lista de elementos\n",
        "* expand=True: Hace que ocupe todo el espacio vertical disponible\n",
        "* spacing=10: Pone 10 píxeles de separación entre cada mensaje\n",
        "* auto_scroll=True: Cuando hay un mensaje nuevo, se desplaza automáticamente"
      ],
      "metadata": {
        "id": "ciTkneb6jOHW"
      }
    },
    {
      "cell_type": "markdown",
      "source": [
        "2.6. Crea la función para mostrar burbujas de chat"
      ],
      "metadata": {
        "id": "eVHYiNbkjSAm"
      }
    },
    {
      "cell_type": "code",
      "source": [
        "def burbuja(texto, es_usuario):\n",
        "        return ft.Row(\n",
        "            [\n",
        "                # Emoji del usuario o del personaje\n",
        "                ft.Text(EMOJI_USUARIO if es_usuario else EMOJI_PERSONAJE, size=24),\n",
        "                # Contenedor con el texto del mensaje\n",
        "                ft.Container(\n",
        "                    content=ft.Text(\n",
        "                        texto,\n",
        "                        color=ft.Colors.WHITE if es_usuario else ft.Colors.BLACK,\n",
        "                        size=15,\n",
        "                        selectable=True,  # El usuario puede seleccionar el texto\n",
        "                    ),\n",
        "                    # Color de fondo: azul para usuario, gris para bot\n",
        "                    bgcolor=ft.Colors.BLUE_400 if es_usuario else ft.Colors.GREY_300,\n",
        "                    padding=12,           # Espacio interno\n",
        "                    border_radius=30,     # Bordes redondeados\n",
        "                    # Sombra para dar efecto 3D\n",
        "                    shadow=ft.BoxShadow(blur_radius=8, color=ft.Colors.GREY_400, offset=ft.Offset(2, 2)),\n",
        "                    # Margen: izquierda para usuario, derecha para bot\n",
        "                    margin=ft.margin.only(left=10) if es_usuario else ft.margin.only(right=10),\n",
        "                    width=350,            # Ancho máximo de la burbuja\n",
        "                )\n",
        "            ],\n",
        "            # Alineación: derecha para usuario, izquierda para bot\n",
        "            alignment=ft.MainAxisAlignment.END if es_usuario else ft.MainAxisAlignment.START,\n",
        "        )"
      ],
      "metadata": {
        "id": "bUVi29pwj9Hg"
      },
      "execution_count": null,
      "outputs": []
    },
    {
      "cell_type": "markdown",
      "source": [
        "¿Qué hace este código?\n",
        "\n",
        "* def burbuja(texto, es_usuario):: Función que crea una burbuja de mensaje\n",
        "* es_usuario: Parámetro booleano (True si es del usuario, False si es del bot)\n",
        "* ft.Row: Organiza elementos horizontalmente (emoji + burbuja)\n",
        "* ft.Container: Caja que contiene el texto con estilo\n",
        "* Los colores, márgenes y alineación cambian según quién envía el mensaje\n",
        "\n",
        "\n"
      ],
      "metadata": {
        "id": "TaKsAMblj-K8"
      }
    },
    {
      "cell_type": "markdown",
      "source": [
        "2.7. Crea el campo de texto para escribir"
      ],
      "metadata": {
        "id": "EsS54wzIkjAl"
      }
    },
    {
      "cell_type": "code",
      "source": [
        "# Campo donde el usuario escribe su mensaje\n",
        "    prompt = ft.TextField(\n",
        "        label=\"Escribe tu mensaje...\",  # Texto de ayuda\n",
        "        expand=True,                    # Ocupa todo el ancho disponible\n",
        "        border_radius=20,               # Bordes redondeados\n",
        "        filled=True,                    # Tiene fondo\n",
        "        bgcolor=ft.Colors.WHITE         # Fondo blanco\n",
        "    )"
      ],
      "metadata": {
        "id": "DV8YcRknklyb"
      },
      "execution_count": null,
      "outputs": []
    },
    {
      "cell_type": "markdown",
      "source": [
        "¿Qué hace este código?\n",
        "\n",
        "* ft.TextField: Campo de texto donde el usuario puede escribir\n",
        "* label: Texto que aparece cuando el campo está vacío\n",
        "* expand=True: Hace que ocupe todo el ancho disponible\n",
        "* border_radius=20: Hace los bordes redondeados\n",
        "* filled=True y bgcolor: Le da un fondo blanco"
      ],
      "metadata": {
        "id": "vr0wUJ2Lkx92"
      }
    },
    {
      "cell_type": "markdown",
      "source": [
        "2.8. Crea la función para enviar mensajes"
      ],
      "metadata": {
        "id": "6G-a9DPdlG2G"
      }
    },
    {
      "cell_type": "code",
      "source": [
        "def enviar_click(e):\n",
        "        # Obtiene el texto que escribió el usuario\n",
        "        user_input = prompt.value.strip()\n",
        "        if not user_input:  # Si está vacío, no hace nada\n",
        "            return\n",
        "\n",
        "        # Agrega el mensaje del usuario a la lista\n",
        "        mensajes.controls.append(burbuja(user_input, es_usuario=True))\n",
        "        page.update()  # Actualiza la interfaz\n",
        "\n",
        "        # Limpia el campo de texto\n",
        "        prompt.value = \"\"\n",
        "        page.update()\n",
        "\n",
        "        # Crea el prompt para el personaje\n",
        "        prompt_personaje = (\n",
        "            f\"Responde como si fueras {PERSONAJE}. \"\n",
        "            \"Habla con su estilo, conocimientos y personalidad. \"\n",
        "            \"Responde en español de manera clara y concisa. \"\n",
        "            f\"Pregunta del usuario: {user_input}\"\n",
        "        )\n",
        "\n",
        "        try:\n",
        "            # Envía la petición a Ollama\n",
        "            response = requests.post(\n",
        "                OLLAMA_URL,\n",
        "                json={\"model\": MODEL, \"prompt\": prompt_personaje, \"stream\": True},\n",
        "                stream=True\n",
        "            )\n",
        "\n",
        "            respuesta = \"\"\n",
        "            # Lee la respuesta línea por línea\n",
        "            for line in response.iter_lines():\n",
        "                if line:\n",
        "                    data = json.loads(line)\n",
        "                    if \"response\" in data:\n",
        "                        respuesta += data[\"response\"]\n",
        "                    elif \"error\" in data:\n",
        "                        respuesta = f\"Error de Ollama: {data['error']}\"\n",
        "                        break\n",
        "\n",
        "            if not respuesta:\n",
        "                respuesta = \"No se recibió respuesta del modelo.\"\n",
        "\n",
        "        except Exception as ex:\n",
        "            respuesta = f\"Error de conexión: {ex}\"\n",
        "\n",
        "        # Agrega la respuesta del bot a la lista\n",
        "        mensajes.controls.append(burbuja(respuesta, es_usuario=False))\n",
        "        page.update()"
      ],
      "metadata": {
        "id": "8sAV1kdVlHhm"
      },
      "execution_count": null,
      "outputs": []
    },
    {
      "cell_type": "markdown",
      "source": [
        "¿Qué hace este código?\n",
        "\n",
        "* def enviar_click(e):: Función que se ejecuta al hacer clic en \"Enviar\"\n",
        "* prompt.value.strip(): Obtiene el texto y quita espacios en blanco\n",
        "* mensajes.controls.append(): Agrega un nuevo mensaje a la lista\n",
        "* page.update(): Actualiza la interfaz para mostrar los cambios\n",
        "* requests.post(): Envía una petición HTTP a Ollama\n",
        "* stream=True: Recibe la respuesta en tiempo real\n",
        "* json.loads(): Convierte el texto JSON en un diccionario de Python\n",
        "* El try/except maneja errores de conexión"
      ],
      "metadata": {
        "id": "Z2u_d8RbljtP"
      }
    },
    {
      "cell_type": "markdown",
      "source": [
        "2.9. Conecta el campo de texto con la función"
      ],
      "metadata": {
        "id": "N8J0RNvxlqgc"
      }
    },
    {
      "cell_type": "code",
      "source": [
        "# Cuando el usuario presiona Enter, ejecuta enviar_click\n",
        "    prompt.on_submit = enviar_click"
      ],
      "metadata": {
        "id": "yeYTYyvHlsH1"
      },
      "execution_count": null,
      "outputs": []
    },
    {
      "cell_type": "markdown",
      "source": [
        "¿Qué hace este código?\n",
        "\n",
        "* on_submit: Evento que se dispara cuando el usuario presiona Enter\n",
        "* Conecta el campo de texto con la función de enviar"
      ],
      "metadata": {
        "id": "8GTURSP8lwAQ"
      }
    },
    {
      "cell_type": "markdown",
      "source": [
        "2.10. Crea el encabezado y organiza la interfaz"
      ],
      "metadata": {
        "id": "ylfb5Wo8l6O7"
      }
    },
    {
      "cell_type": "code",
      "source": [
        "# Encabezado del chat\n",
        "    header = ft.Container(\n",
        "        content=ft.Row([\n",
        "            ft.Text(EMOJI_PERSONAJE, size=32),  # Emoji grande\n",
        "            ft.Text(PERSONAJE, size=22, weight=\"bold\", color=ft.Colors.BLUE_900),\n",
        "        ], alignment=ft.MainAxisAlignment.START, spacing=15),\n",
        "        padding=ft.padding.symmetric(vertical=16, horizontal=10),\n",
        "        bgcolor=ft.Colors.WHITE,\n",
        "        border_radius=ft.border_radius.only(top_left=20, top_right=20),\n",
        "        shadow=ft.BoxShadow(blur_radius=12, color=ft.Colors.GREY_300, offset=ft.Offset(0, 2))\n",
        "    )\n",
        "\n",
        "    # Organiza todos los elementos en la página\n",
        "    page.add(\n",
        "        ft.Container(\n",
        "            content=ft.Column([\n",
        "                header,           # Encabezado\n",
        "                mensajes,         # Lista de mensajes\n",
        "                ft.Row([          # Fila con campo de texto y botón\n",
        "                    prompt,\n",
        "                    ft.ElevatedButton(\n",
        "                        \"Enviar\",\n",
        "                        on_click=enviar_click,\n",
        "                        bgcolor=ft.Colors.BLUE_400,\n",
        "                        color=ft.Colors.WHITE\n",
        "                    )\n",
        "                ], vertical_alignment=ft.CrossAxisAlignment.END),\n",
        "            ], expand=True, spacing=10),\n",
        "            expand=True,\n",
        "            padding=0,\n",
        "            bgcolor=ft.Colors.WHITE,\n",
        "        )\n",
        "    )"
      ],
      "metadata": {
        "id": "HWnDVRcCl7XW"
      },
      "execution_count": null,
      "outputs": []
    },
    {
      "cell_type": "markdown",
      "source": [
        "¿Qué hace este código?\n",
        "\n",
        "* header: Crea un encabezado bonito con el emoji y nombre del personaje\n",
        "* ft.Column: Organiza elementos verticalmente (encabezado, mensajes, campo de texto)\n",
        "* ft.Row: Organiza elementos horizontalmente (campo de texto + botón)\n",
        "* page.add(): Agrega todos los elementos a la página"
      ],
      "metadata": {
        "id": "FjhyrtlBmAqt"
      }
    },
    {
      "cell_type": "markdown",
      "source": [
        "2.11. Ejecuta la aplicación"
      ],
      "metadata": {
        "id": "8hYi__BJmJhm"
      }
    },
    {
      "cell_type": "markdown",
      "source": [
        "Paso 3: Prueba tu chatbot básico\n",
        "* Guarda tu proyecto\n",
        "* Asegúrate de que Ollama esté corriendo: ollama serve\n",
        "* Ejecuta: tu archivo main.py\n",
        "* ¡Chatea con Albert Einstein (Mac) o Marie Curie (Windows)!"
      ],
      "metadata": {
        "id": "OqWUyfvHmKUJ"
      }
    },
    {
      "cell_type": "markdown",
      "source": [
        "Codigo completo"
      ],
      "metadata": {
        "id": "cYuzqRJFm3xk"
      }
    },
    {
      "cell_type": "code",
      "source": [
        "import flet as ft\n",
        "import requests\n",
        "import json\n",
        "\n",
        "OLLAMA_URL = \"http://localhost:11434/api/generate\"\n",
        "MODEL = \"mistral:7b\"\n",
        "PERSONAJE = \"Albert Einstein\"\n",
        "EMOJI_PERSONAJE = \"🧑‍🔬\"\n",
        "EMOJI_USUARIO = \"🧑‍💻\"\n",
        "\n",
        "def main(page: ft.Page):\n",
        "    page.title = f\"Chat con {PERSONAJE}\"\n",
        "    page.bgcolor = ft.Colors.GREY_100\n",
        "\n",
        "    mensajes = ft.ListView(\n",
        "        expand=True,\n",
        "        spacing=10,\n",
        "        padding=20,\n",
        "        auto_scroll=True,\n",
        "    )\n",
        "\n",
        "    def burbuja(texto, es_usuario):\n",
        "        return ft.Row(\n",
        "            [\n",
        "                ft.Text(EMOJI_USUARIO if es_usuario else EMOJI_PERSONAJE, size=24),\n",
        "                ft.Container(\n",
        "                    content=ft.Text(\n",
        "                        texto,\n",
        "                        color=ft.Colors.WHITE if es_usuario else ft.Colors.BLACK,\n",
        "                        size=15,\n",
        "                        selectable=True,\n",
        "                    ),\n",
        "                    bgcolor=ft.Colors.BLUE_400 if es_usuario else ft.Colors.GREY_300,\n",
        "                    padding=12,\n",
        "                    border_radius=30,\n",
        "                    shadow=ft.BoxShadow(blur_radius=8, color=ft.Colors.GREY_400, offset=ft.Offset(2, 2)),\n",
        "                    margin=ft.margin.only(left=10) if es_usuario else ft.margin.only(right=10),\n",
        "                    alignment=ft.alignment.center_right if es_usuario else ft.alignment.center_left,\n",
        "                    width=350,\n",
        "                )\n",
        "            ] if es_usuario else [\n",
        "                ft.Container(\n",
        "                    content=ft.Text(\n",
        "                        texto,\n",
        "                        color=ft.Colors.BLACK,\n",
        "                        size=15,\n",
        "                        selectable=True,\n",
        "                    ),\n",
        "                    bgcolor=ft.Colors.GREY_300,\n",
        "                    padding=12,\n",
        "                    border_radius=30,\n",
        "                    shadow=ft.BoxShadow(blur_radius=8, color=ft.Colors.GREY_400, offset=ft.Offset(2, 2)),\n",
        "                    margin=ft.margin.only(right=10),\n",
        "                    alignment=ft.alignment.center_left,\n",
        "                    width=350,\n",
        "                ),\n",
        "                ft.Text(EMOJI_PERSONAJE, size=24),\n",
        "            ],\n",
        "            alignment=ft.MainAxisAlignment.END if es_usuario else ft.MainAxisAlignment.START,\n",
        "        )\n",
        "\n",
        "    prompt = ft.TextField(\n",
        "        label=f\"Escribe tu mensaje...\",\n",
        "        expand=True,\n",
        "        border_radius=20,\n",
        "        filled=True,\n",
        "        bgcolor=ft.Colors.WHITE\n",
        "    )\n",
        "\n",
        "    def enviar_click(e):\n",
        "        user_input = prompt.value.strip()\n",
        "        if not user_input:\n",
        "            return\n",
        "        mensajes.controls.append(burbuja(user_input, es_usuario=True))\n",
        "        page.update()\n",
        "        prompt.value = \"\"\n",
        "        page.update()\n",
        "\n",
        "        prompt_personaje = (\n",
        "            f\"Responde como si fueras {PERSONAJE}. \"\n",
        "            \"Habla con su estilo, conocimientos y personalidad. \"\n",
        "            f\"Pregunta del usuario: {user_input}\"\n",
        "        )\n",
        "\n",
        "        try:\n",
        "            response = requests.post(\n",
        "                OLLAMA_URL,\n",
        "                json={\"model\": MODEL, \"prompt\": prompt_personaje, \"stream\": True},\n",
        "                stream=True\n",
        "            )\n",
        "            respuesta = \"\"\n",
        "            for line in response.iter_lines():\n",
        "                if line:\n",
        "                    data = json.loads(line)\n",
        "                    if \"response\" in data:\n",
        "                        respuesta += data[\"response\"]\n",
        "                    elif \"error\" in data:\n",
        "                        respuesta = f\"Error de Ollama: {data['error']}\"\n",
        "                        break\n",
        "            if not respuesta:\n",
        "                respuesta = \"No se recibió respuesta del modelo.\"\n",
        "        except Exception as ex:\n",
        "            respuesta = f\"Error de conexión o inesperado: {ex}\"\n",
        "\n",
        "        mensajes.controls.append(burbuja(respuesta, es_usuario=False))\n",
        "        page.update()\n",
        "\n",
        "    # Header con emoji y nombre\n",
        "    header = ft.Container(\n",
        "        content=ft.Row([\n",
        "            ft.Text(EMOJI_PERSONAJE, size=32),\n",
        "            ft.Text(PERSONAJE, size=22, weight=\"bold\", color=ft.Colors.BLUE_900),\n",
        "        ], alignment=ft.MainAxisAlignment.START, spacing=15),\n",
        "        padding=ft.padding.symmetric(vertical=16, horizontal=10),\n",
        "        bgcolor=ft.Colors.WHITE,\n",
        "        border_radius=ft.border_radius.only(top_left=20, top_right=20),\n",
        "        shadow=ft.BoxShadow(blur_radius=12, color=ft.Colors.GREY_300, offset=ft.Offset(0, 2))\n",
        "    )\n",
        "\n",
        "    page.add(\n",
        "        ft.Container(\n",
        "            content=ft.Column([\n",
        "                header,\n",
        "                mensajes,\n",
        "                ft.Row([prompt, ft.ElevatedButton(\"Enviar\", on_click=enviar_click, bgcolor=ft.Colors.BLUE_400, color=ft.Colors.WHITE)], vertical_alignment=ft.CrossAxisAlignment.END),\n",
        "            ], expand=True, spacing=10),\n",
        "            expand=True,\n",
        "            padding=0,\n",
        "            border_radius=0,\n",
        "            bgcolor=ft.Colors.WHITE,\n",
        "        )\n",
        "    )\n",
        "\n",
        "ft.app(target=main)"
      ],
      "metadata": {
        "id": "mMrMiN4vm5rq"
      },
      "execution_count": null,
      "outputs": []
    }
  ]
}